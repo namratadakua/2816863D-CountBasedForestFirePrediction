{
 "cells": [
  {
   "cell_type": "code",
   "execution_count": 1,
   "id": "94e5b74d-5ab3-49a4-b811-781d0f17f558",
   "metadata": {
    "ExecuteTime": {
     "end_time": "2024-04-25T00:00:30.394890Z",
     "start_time": "2024-04-25T00:00:29.008884Z"
    }
   },
   "outputs": [],
   "source": [
    "import pandas as pd\n",
    "import cdsapi\n",
    "import os\n",
    "import concurrent.futures\n",
    "import nest_asyncio\n",
    "import os\n",
    "import xarray as xr\n",
    "nest_asyncio.apply()\n",
    "\n",
    "## This function checks if the file is already present in the directory or not\n",
    "def isFilePresent( file_name):\n",
    "    file_present = os.path.isfile(file_name)\n",
    "    if file_present:\n",
    "        print('Alreaday present : '+file_name)\n",
    "    else:\n",
    "        print('file absent : '+file_name)\n",
    "    return file_present\n"
   ]
  },
  {
   "cell_type": "code",
   "execution_count": 2,
   "id": "0f52c412-581b-421d-9438-721c6957511c",
   "metadata": {
    "ExecuteTime": {
     "end_time": "2024-04-25T00:00:30.407831Z",
     "start_time": "2024-04-25T00:00:30.399825Z"
    }
   },
   "outputs": [],
   "source": [
    "## This function download the climate record using CDS api based on date, area coordinates (north, west, south, east coordinates), and fire occurrence in day/night\n",
    "def download_climate_data_xarray_file_only(file_parameters):\n",
    "\n",
    "    date = file_parameters[\"date\"]\n",
    "    latitude = file_parameters[\"latitude\"] \n",
    "    longitude = file_parameters[\"longitude\"] \n",
    "    area = file_parameters[\"area\"] \n",
    "    day_night_ind = file_parameters[\"day_night_ind\"]\n",
    "    \n",
    "    ## initialize CDS api\n",
    "    c = cdsapi.Client()\n",
    "    \n",
    "    date_split = date.split(\"-\")\n",
    "    year = date_split[0]\n",
    "    month = date_split[1]\n",
    "    day = date_split[2]\n",
    "    \n",
    "    area_str = '_'.join(str(num) for num in area)\n",
    "    \n",
    "    file_name = '../dataset/nc_files/'+year+'/weather-'+str(longitude)+'-'+str(latitude)+'-'+date+'-'+day_night_ind+'.nc'\n",
    "    ## This method is invoked in loop for fire records of a year, and api invocation can get interrupted, breaking the loop.\n",
    "    ## When the loop is restarted, the below if condition prevents invoking api again \n",
    "    if not isFilePresent(file_name):\n",
    "        ## if the day/night indicator is day then climate data will be fetch for 12:00PM (afternoon time)\n",
    "        ## if the day/night indicator is night then climate data will be fetched for 10:00PM (night time)\n",
    "        time = '12:00'\n",
    "        if day_night_ind == \"N\":\n",
    "            time = '22:00'\n",
    "        ## CDS api call which saves the response as .nc file\n",
    "        c.retrieve('reanalysis-era5-single-levels',\n",
    "        {\n",
    "            'product_type': 'reanalysis',\n",
    "            'format': 'netcdf',\n",
    "            'variable': [\n",
    "            '10m_u_component_of_wind', '10m_v_component_of_wind', '2m_temperature',\n",
    "            'soil_temperature_level_1', 'soil_temperature_level_2', 'soil_temperature_level_3',\n",
    "            'soil_temperature_level_4', 'soil_type', 'total_precipitation', 'volumetric_soil_water_layer_1',\n",
    "            'volumetric_soil_water_layer_2', 'volumetric_soil_water_layer_3', 'volumetric_soil_water_layer_4'\n",
    "            ],\n",
    "            'year': year,\n",
    "            'month': month,\n",
    "            'day': [str(day)],\n",
    "            'time': [time],\n",
    "            'area': area,\n",
    "        },\n",
    "        file_name)\n"
   ]
  },
  {
   "cell_type": "code",
   "execution_count": 3,
   "id": "c43c0621-16e9-484f-b985-3689c324d58a",
   "metadata": {
    "ExecuteTime": {
     "end_time": "2024-04-25T00:00:30.416069Z",
     "start_time": "2024-04-25T00:00:30.410092Z"
    }
   },
   "outputs": [],
   "source": [
    "def group_fire_data_xarray_file_only(file_name):\n",
    "    file_path = \"../dataset/firedata/\" + file_name + \".csv\"\n",
    "    fire_data = pd.read_csv(file_path)\n",
    "    \n",
    "    filtered_fire_data = fire_data.query(\"`confidence` >= 90 and `type` == 0\")\n",
    "    grouped_fire_data = filtered_fire_data.groupby(['acq_date', 'daynight']).agg({'latitude':'mean','longitude':'mean','brightness':'mean','confidence':'mean', 'frp':'mean', 'bright_t31':'mean'}).reset_index()\n",
    "\n",
    "    params = []\n",
    "    distance = 1/111\n",
    "    for modis_data_index, modis_row in grouped_fire_data.iterrows():\n",
    "        #print(modis_row['acq_date'])\n",
    "        date_value = modis_row['acq_date']\n",
    "        confidence = modis_row['confidence']\n",
    "        latitude = modis_row['latitude']\n",
    "        longitude = modis_row['longitude']\n",
    "        day_night_ind = modis_row['daynight']\n",
    "        #print(type(confidence))\n",
    "        if confidence >= 90:\n",
    "            north_coord = latitude + distance\n",
    "            south_coord = latitude - distance\n",
    "            west_coord = longitude - distance\n",
    "            east_coord = longitude + distance\n",
    "            area = [north_coord, west_coord, south_coord, east_coord]\n",
    "            #print(area)\n",
    "\n",
    "            file_paramaters = {\n",
    "                \"date\" :date_value, \n",
    "                \"latitude\" : latitude, \n",
    "                \"longitude\" : longitude, \n",
    "                \"area\": area, \n",
    "                \"day_night_ind\": day_night_ind\n",
    "            }\n",
    "            params.append(file_paramaters)\n",
    "\n",
    "    return params"
   ]
  },
  {
   "cell_type": "code",
   "execution_count": 4,
   "id": "98f0684dd66c71c2",
   "metadata": {
    "ExecuteTime": {
     "end_time": "2024-04-25T00:00:30.453343Z",
     "start_time": "2024-04-25T00:00:30.418582Z"
    },
    "collapsed": false
   },
   "outputs": [],
   "source": [
    "file_params = group_fire_data_xarray_file_only(\"canada_2023\")\n",
    "# file_params = group_fire_data_xarray_file_only(\"canada_2022\")\n",
    "# file_params = group_fire_data_xarray_file_only(\"canada_2021\")\n",
    "# file_params = group_fire_data_xarray_file_only(\"canada_2020\")\n",
    "# file_params = group_fire_data_xarray_file_only(\"canada_2019\")\n",
    "# file_params = group_fire_data_xarray_file_only(\"canada_2018\")\n",
    "# file_params = group_fire_data_xarray_file_only(\"canada_2017\")\n",
    "# file_params = group_fire_data_xarray_file_only(\"canada_2016\")\n",
    "# file_params = group_fire_data_xarray_file_only(\"canada_2015\")\n",
    "# file_params = group_fire_data_xarray_file_only(\"canada_2014\")\n",
    "# file_params = group_fire_data_xarray_file_only(\"canada_2013\")\n",
    "# file_params = group_fire_data_xarray_file_only(\"canada_2012\")\n",
    "# file_params = group_fire_data_xarray_file_only(\"canada_2011\")\n",
    "# file_params = group_fire_data_xarray_file_only(\"canada_2010\")"
   ]
  },
  {
   "cell_type": "code",
   "execution_count": 5,
   "id": "4d5404a2-cbf9-4eb1-8241-b782d98c8228",
   "metadata": {
    "ExecuteTime": {
     "end_time": "2024-04-25T00:00:30.477985Z",
     "start_time": "2024-04-25T00:00:30.456546Z"
    }
   },
   "outputs": [
    {
     "name": "stdout",
     "output_type": "stream",
     "text": [
      "Alreaday present : ../dataset/nc_files/2023/weather--117.14828947368422-53.40439473684211-2023-01-03-D.nc\n",
      "Alreaday present : ../dataset/nc_files/2023/weather--117.3086-53.0825-2023-01-01-D.nc\n",
      "Alreaday present : ../dataset/nc_files/2023/weather--117.966975-53.4962-2023-01-02-D.nc\n",
      "Alreaday present : ../dataset/nc_files/2023/weather--117.544-54.41256666666666-2023-01-01-N.nc\n",
      "Alreaday present : ../dataset/nc_files/2023/weather--117.73523333333333-55.16806666666667-2023-01-03-N.nc\n",
      "Alreaday present : ../dataset/nc_files/2023/weather--117.1609-54.921654545454544-2023-01-04-D.nc\n",
      "Alreaday present : ../dataset/nc_files/2023/weather--115.65476666666666-54.16863333333333-2023-01-06-D.nc\n",
      "Alreaday present : ../dataset/nc_files/2023/weather--117.94454-56.11586-2023-01-07-N.nc\n",
      "Alreaday present : ../dataset/nc_files/2023/weather--120.230525-56.843975-2023-01-08-N.nc\n",
      "Alreaday present : ../dataset/nc_files/2023/weather--117.4282-53.3016-2023-01-04-N.nc\n",
      "Alreaday present : ../dataset/nc_files/2023/weather--122.2348-56.3051-2023-01-07-D.nc\n",
      "Alreaday present : ../dataset/nc_files/2023/weather--118.28642857142857-52.87067142857143-2023-01-09-D.nc\n",
      "Alreaday present : ../dataset/nc_files/2023/weather--118.5413-54.046-2023-01-15-N.nc\n",
      "Alreaday present : ../dataset/nc_files/2023/weather--117.51127777777778-53.3129-2023-01-11-D.nc\n",
      "Alreaday present : ../dataset/nc_files/2023/weather--117.51812857142856-53.869014285714286-2023-01-08-D.nc\n",
      "Alreaday present : ../dataset/nc_files/2023/weather--115.66755-55.64735-2023-01-12-N.nc\n",
      "Alreaday present : ../dataset/nc_files/2023/weather--115.7849-54.908500000000004-2023-01-09-N.nc\n",
      "Alreaday present : ../dataset/nc_files/2023/weather--115.8888-53.016450000000006-2023-01-16-D.nc\n",
      "Alreaday present : ../dataset/nc_files/2023/weather--116.8842-54.1381-2023-01-15-D.nc\n",
      "Alreaday present : ../dataset/nc_files/2023/weather--111.0884-56.2958-2023-01-20-D.nc\n",
      "Alreaday present : ../dataset/nc_files/2023/weather--119.71686666666666-58.50333333333333-2023-01-20-N.nc\n",
      "Alreaday present : ../dataset/nc_files/2023/weather--121.3335-51.7699-2023-01-19-N.nc\n",
      "Alreaday present : ../dataset/nc_files/2023/weather--116.7581-54.2916-2023-01-19-D.nc\n",
      "Alreaday present : ../dataset/nc_files/2023/weather--120.7134-55.1418-2023-01-22-D.nc\n",
      "Alreaday present : ../dataset/nc_files/2023/weather--120.8523-55.210033333333335-2023-01-21-D.nc\n",
      "Alreaday present : ../dataset/nc_files/2023/weather--122.0146-52.3278-2023-01-21-N.nc\n",
      "Alreaday present : ../dataset/nc_files/2023/weather--124.066-54.217349999999996-2023-01-22-N.nc\n",
      "Alreaday present : ../dataset/nc_files/2023/weather--116.37446666666666-54.9361-2023-01-25-N.nc\n",
      "Alreaday present : ../dataset/nc_files/2023/weather--124.562-51.8704-2023-01-23-D.nc\n",
      "Alreaday present : ../dataset/nc_files/2023/weather--119.0205-57.33515-2023-01-24-D.nc\n",
      "Alreaday present : ../dataset/nc_files/2023/weather--122.9894-57.5144-2023-01-26-D.nc\n",
      "Alreaday present : ../dataset/nc_files/2023/weather--112.0493-55.0663-2023-01-25-D.nc\n"
     ]
    }
   ],
   "source": [
    "# Create a ThreadPoolExecutor\n",
    "with concurrent.futures.ThreadPoolExecutor(max_workers=200) as executor:\n",
    "    # Submit download_data function for each variable\n",
    "    futures = [executor.submit(download_climate_data_xarray_file_only, variable) for variable in file_params]\n",
    "\n",
    "    # Wait for all tasks to complete\n",
    "    for future in concurrent.futures.as_completed(futures):\n",
    "        try:\n",
    "            future.result()\n",
    "        except Exception as e:\n",
    "            print(f\"An error occurred: {e}\")"
   ]
  }
 ],
 "metadata": {
  "kernelspec": {
   "display_name": "Python 3 (ipykernel)",
   "language": "python",
   "name": "python3"
  },
  "language_info": {
   "codemirror_mode": {
    "name": "ipython",
    "version": 3
   },
   "file_extension": ".py",
   "mimetype": "text/x-python",
   "name": "python",
   "nbconvert_exporter": "python",
   "pygments_lexer": "ipython3",
   "version": "3.11.5"
  }
 },
 "nbformat": 4,
 "nbformat_minor": 5
}
